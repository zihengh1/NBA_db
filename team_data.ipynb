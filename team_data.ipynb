{
 "cells": [
  {
   "cell_type": "code",
   "execution_count": 247,
   "metadata": {},
   "outputs": [],
   "source": [
    "import requests  \n",
    "import pandas as pd\n",
    "import time  \n",
    "import urllib.request  \n",
    "import csv\n",
    "from bs4 import BeautifulSoup\n",
    "import csv\n",
    "# TeamNo,TeamName,Location,Division"
   ]
  },
  {
   "cell_type": "code",
   "execution_count": 248,
   "metadata": {},
   "outputs": [],
   "source": [
    "url = \"https://en.wikipedia.org/wiki/National_Basketball_Association\""
   ]
  },
  {
   "cell_type": "code",
   "execution_count": 249,
   "metadata": {},
   "outputs": [],
   "source": [
    "with urllib.request.urlopen(url) as url:\n",
    "    s = url.read()\n",
    "    soup = BeautifulSoup(s, 'lxml')"
   ]
  },
  {
   "cell_type": "code",
   "execution_count": 250,
   "metadata": {},
   "outputs": [],
   "source": [
    "total = []\n",
    "for team_data in soup.find_all('table', class_= \"navbox wikitable\"):\n",
    "    for td in team_data.find_all('tr'):\n",
    "        for a in td.find_all('a'):\n",
    "            if (c for c in a if c.isalpha()):\n",
    "                total.append(str(a.text))\n",
    "               "
   ]
  },
  {
   "cell_type": "code",
   "execution_count": 251,
   "metadata": {},
   "outputs": [],
   "source": [
    "def write_to_csv(data):\n",
    "    with open(\"/Users/heng/Data_Base/project/Team_data/\" + file_name, 'a') as outcsv:   \n",
    "        print(file_name)\n",
    "        writer = csv.writer(outcsv, delimiter=',', quotechar='|', quoting=csv.QUOTE_MINIMAL, lineterminator='\\n')\n",
    "        writer.writerow(['TeamNo', 'TeamName', 'Location', 'Division'])\n",
    "        writer.writerow([data[0], data[1], data[2], data[3]])"
   ]
  },
  {
   "cell_type": "code",
   "execution_count": 252,
   "metadata": {},
   "outputs": [
    {
     "name": "stdout",
     "output_type": "stream",
     "text": [
      "[0, 'Boston Celtics', 'Boston @ TD Garden', 'East_Atlantic']\n",
      "Boston\n",
      "[1, 'Brooklyn Nets', 'New York City @ Barclays Center', 'East_Atlantic']\n",
      "New York City\n",
      "[2, 'New York Knicks', 'New York City @ Madison Square Garden', 'East_Atlantic']\n",
      "New York City\n",
      "[3, 'Philadelphia 76ers', 'Philadelphia @ Wells Fargo Center', 'East_Atlantic']\n",
      "Philadelphia\n",
      "[4, 'Toronto Raptors', 'Toronto @ Air Canada Centre', 'East_Atlantic']\n",
      "Toronto\n"
     ]
    }
   ],
   "source": [
    "east_Atlantic = total[2:31]\n",
    "# print(east_Atlantic)\n",
    "for i in range(5):\n",
    "    data = []\n",
    "    team_name = east_Atlantic[6 * i]\n",
    "    file_name = east_Atlantic[6 * i + 1]\n",
    "    team_location = str(east_Atlantic[6 * i + 1]) + \" @ \" + str(east_Atlantic[6 * i + 3]) \n",
    "    data.append(i)\n",
    "    data.append(team_name)\n",
    "    data.append(team_location)\n",
    "    data.append(\"East_Atlantic\")\n",
    "    print(data)\n",
    "    write_to_csv(data)"
   ]
  },
  {
   "cell_type": "code",
   "execution_count": 253,
   "metadata": {},
   "outputs": [
    {
     "name": "stdout",
     "output_type": "stream",
     "text": [
      "[5, 'Chicago Bulls', 'Chicago @ United Center', 'East_Central']\n",
      "Chicago\n",
      "[6, 'Cleveland Cavaliers', 'Cleveland @ Quicken Loans Arena', 'East_Central']\n",
      "Cleveland\n",
      "[7, 'Detroit Pistons', 'Detroit @ Little Caesars Arena', 'East_Central']\n",
      "Detroit\n"
     ]
    }
   ],
   "source": [
    "east_Central = total[32:61]\n",
    "# print(east_Central)\n",
    "for i in range(3):\n",
    "    data = []\n",
    "    team_name = east_Central[6 * i]\n",
    "    file_name = east_Central[6 * i + 1]\n",
    "    team_location = str(east_Central[6 * i + 1]) + \" @ \" + str(east_Central[6 * i + 3]) \n",
    "    data.append(i + 5)\n",
    "    data.append(team_name)\n",
    "    data.append(team_location)\n",
    "    data.append(\"East_Central\")\n",
    "    print(data)\n",
    "    write_to_csv(data)"
   ]
  },
  {
   "cell_type": "code",
   "execution_count": 254,
   "metadata": {},
   "outputs": [
    {
     "name": "stdout",
     "output_type": "stream",
     "text": [
      "[10, 'Atlanta Hawks', 'Atlanta @ Philips Arena', 'East_Southeast']\n",
      "Atlanta\n",
      "[11, 'Charlotte Hornets', 'Charlotte @ Spectrum Center', 'East_Southeast']\n",
      "Charlotte\n",
      "[12, 'Miami Heat', 'Miami @ American Airlines Arena', 'East_Southeast']\n",
      "Miami\n",
      "[13, 'Orlando Magic', 'Orlando @ Amway Center', 'East_Southeast']\n",
      "Orlando\n"
     ]
    }
   ],
   "source": [
    "east_Southeast = total[62:90]\n",
    "# print(east_Southeast)\n",
    "for i in range(4):\n",
    "    data = []\n",
    "    team_name = east_Southeast[6 * i]\n",
    "    file_name = east_Southeast[6 * i + 1]\n",
    "    team_location = str(east_Southeast[6 * i + 1]) + \" @ \" + str(east_Southeast[6 * i + 3]) \n",
    "    data.append(i + 10)\n",
    "    data.append(team_name)\n",
    "    data.append(team_location)\n",
    "    data.append(\"East_Southeast\")\n",
    "    print(data)\n",
    "    write_to_csv(data)"
   ]
  },
  {
   "cell_type": "code",
   "execution_count": 255,
   "metadata": {},
   "outputs": [
    {
     "name": "stdout",
     "output_type": "stream",
     "text": [
      "[15, 'Denver Nuggets', 'Denver @ Pepsi Center', 'West_Northwest']\n",
      "Denver\n",
      "[16, 'Minnesota Timberwolves', 'Minneapolis @ Target Center', 'West_Northwest']\n",
      "Minneapolis\n",
      "[17, 'Oklahoma City Thunder', 'Oklahoma City @ Chesapeake Energy Arena', 'West_Northwest']\n",
      "Oklahoma City\n",
      "[18, 'Portland Trail Blazers', 'Portland @ Moda Center', 'West_Northwest']\n",
      "Portland\n",
      "[19, 'Utah Jazz', 'Salt Lake City @ Vivint Smart Home Arena', 'West_Northwest']\n",
      "Salt Lake City\n"
     ]
    }
   ],
   "source": [
    "west_Northwest = total[92:122]\n",
    "# print(west_Northwest)\n",
    "for i in range(5):\n",
    "    data = []\n",
    "    team_name = west_Northwest[6 * i]\n",
    "    file_name = west_Northwest[6 * i + 1]\n",
    "    team_location = str(west_Northwest[6 * i + 1]) + \" @ \" + str(west_Northwest[6 * i + 3]) \n",
    "    data.append(i + 15)\n",
    "    data.append(team_name)\n",
    "    data.append(team_location)\n",
    "    data.append(\"West_Northwest\")\n",
    "    print(data)\n",
    "    write_to_csv(data)"
   ]
  },
  {
   "cell_type": "code",
   "execution_count": 256,
   "metadata": {},
   "outputs": [
    {
     "name": "stdout",
     "output_type": "stream",
     "text": [
      "[20, 'Golden State Warriors', 'Oakland @ Oracle Arena', 'West_Pacific']\n",
      "Oakland\n",
      "[21, 'Los Angeles Clippers', 'Los Angeles @ Staples Center', 'West_Pacific']\n",
      "Los Angeles\n",
      "[22, 'Los Angeles Lakers', 'Los Angeles @ Staples Center', 'West_Pacific']\n",
      "Los Angeles\n",
      "[23, 'Phoenix Suns', 'Phoenix @ Talking Stick Resort Arena', 'West_Pacific']\n",
      "Phoenix\n",
      "[24, 'Sacramento Kings', 'Sacramento @ Golden 1 Center', 'West_Pacific']\n",
      "Sacramento\n"
     ]
    }
   ],
   "source": [
    "west_Pacific = total[123:153]\n",
    "# print(west_Pacific)\n",
    "for i in range(5):\n",
    "    data = []\n",
    "    team_name = west_Pacific[6 * i]\n",
    "    file_name = west_Pacific[6 * i + 1]\n",
    "    team_location = str(west_Pacific[6 * i + 1]) + \" @ \" + str(west_Pacific[6 * i + 3]) \n",
    "    data.append(i + 20)\n",
    "    data.append(team_name)\n",
    "    data.append(team_location)\n",
    "    data.append(\"West_Pacific\")\n",
    "    print(data)\n",
    "    write_to_csv(data)"
   ]
  },
  {
   "cell_type": "code",
   "execution_count": 257,
   "metadata": {},
   "outputs": [
    {
     "name": "stdout",
     "output_type": "stream",
     "text": [
      "[25, 'Dallas Mavericks', 'Dallas @ American Airlines Center', 'West_Southwest']\n",
      "Dallas\n",
      "[26, 'Houston Rockets', 'Houston @ Toyota Center', 'West_Southwest']\n",
      "Houston\n",
      "[27, 'Memphis Grizzlies', 'Memphis @ FedExForum', 'West_Southwest']\n",
      "Memphis\n",
      "[28, 'New Orleans Pelicans', 'New Orleans @ Smoothie King Center', 'West_Southwest']\n",
      "New Orleans\n",
      "[29, 'San Antonio Spurs', 'San Antonio @ AT&T Center', 'West_Southwest']\n",
      "San Antonio\n"
     ]
    }
   ],
   "source": [
    "west_Southwest = total[154:184]\n",
    "# print(west_Southwest)\n",
    "for i in range(5):\n",
    "    data = []\n",
    "    team_name = west_Southwest[6 * i]\n",
    "    file_name = west_Southwest[6 * i + 1]\n",
    "    team_location = str(west_Southwest[6 * i + 1]) + \" @ \" + str(west_Southwest[6 * i + 3]) \n",
    "    data.append(i + 25)\n",
    "    data.append(team_name)\n",
    "    data.append(team_location)\n",
    "    data.append(\"West_Southwest\")\n",
    "    print(data)\n",
    "    write_to_csv(data)"
   ]
  },
  {
   "cell_type": "code",
   "execution_count": null,
   "metadata": {},
   "outputs": [],
   "source": []
  },
  {
   "cell_type": "code",
   "execution_count": null,
   "metadata": {},
   "outputs": [],
   "source": []
  },
  {
   "cell_type": "code",
   "execution_count": null,
   "metadata": {},
   "outputs": [],
   "source": []
  }
 ],
 "metadata": {
  "kernelspec": {
   "display_name": "Python 3",
   "language": "python",
   "name": "python3"
  },
  "language_info": {
   "codemirror_mode": {
    "name": "ipython",
    "version": 3
   },
   "file_extension": ".py",
   "mimetype": "text/x-python",
   "name": "python",
   "nbconvert_exporter": "python",
   "pygments_lexer": "ipython3",
   "version": "3.6.5"
  }
 },
 "nbformat": 4,
 "nbformat_minor": 2
}
