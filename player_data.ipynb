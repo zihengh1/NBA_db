{
 "cells": [
  {
   "cell_type": "code",
   "execution_count": 1,
   "metadata": {},
   "outputs": [],
   "source": [
    "import requests  \n",
    "import pandas as pd\n",
    "import time  \n",
    "import urllib.request  \n",
    "import csv\n",
    "from bs4 import BeautifulSoup"
   ]
  },
  {
   "cell_type": "code",
   "execution_count": 2,
   "metadata": {},
   "outputs": [],
   "source": [
    "def read_player(soup):\n",
    "    for player_table in soup.find_all('div', class_= \"leftCol\"):\n",
    "        info = str()\n",
    "        num = 0\n",
    "        data = []\n",
    "        for index in (player_table.find_all('td')):\n",
    "            # print(str(num) + \" \", end = \"\")\n",
    "            if(num % 6 == 0 and num != 0):\n",
    "                a_tags = index.find_all('a')\n",
    "                for tags in a_tags:\n",
    "                    info = str(tags.string)\n",
    "            else:\n",
    "                info = str(index.string)\n",
    "                # print(info)\n",
    "                info = ''.join(c for c in info if c.isspace() == False)\n",
    "            # print(info)\n",
    "            data.append(info)\n",
    "            num = num + 1\n",
    "    return data"
   ]
  },
  {
   "cell_type": "code",
   "execution_count": 3,
   "metadata": {},
   "outputs": [],
   "source": [
    "def seperate_name(temp):\n",
    "    name = temp[0]\n",
    "    del temp[0]\n",
    "    name = ''.join(c for c in name if c.isalpha() or c.isspace())\n",
    "    name = name.split(\" \")\n",
    "    temp.insert(0, name[1])\n",
    "    temp.insert(0, name[0])\n",
    "    return temp"
   ]
  },
  {
   "cell_type": "code",
   "execution_count": 4,
   "metadata": {},
   "outputs": [],
   "source": [
    "def deal_with_height(temp):\n",
    "    height = temp[4]\n",
    "    del temp[4]\n",
    "    height = height.replace('\"', \"\")\n",
    "    height = height.replace(\"'\", \".\")\n",
    "    temp.insert(4, height)\n",
    "    return temp"
   ]
  },
  {
   "cell_type": "code",
   "execution_count": 5,
   "metadata": {},
   "outputs": [],
   "source": [
    "def deal_with_time(temp):\n",
    "    try:\n",
    "        time = temp[6]\n",
    "        del temp[6]\n",
    "        time = time.replace('/', \" \")\n",
    "        time = time.split(\" \")\n",
    "        str_time = \"\"\n",
    "        str_time = str(time[2]) + \"-\" + str(time[0]) + \"-\" + str(time[1])\n",
    "        temp.insert(6, str_time)\n",
    "    except:\n",
    "        temp.insert(6, \"None\")\n",
    "    return temp"
   ]
  },
  {
   "cell_type": "code",
   "execution_count": 6,
   "metadata": {},
   "outputs": [],
   "source": [
    "def deal_with_weight(temp):\n",
    "    weight = temp[5]\n",
    "    del temp[5]\n",
    "    weight = weight.replace('lbs', \"\")\n",
    "    temp.insert(5, weight)\n",
    "    return temp"
   ]
  },
  {
   "cell_type": "code",
   "execution_count": 7,
   "metadata": {},
   "outputs": [],
   "source": [
    "def player(team, url):\n",
    "    with urllib.request.urlopen(url) as url:\n",
    "        s = url.read()\n",
    "    soup = BeautifulSoup(s, 'lxml')\n",
    "    test = read_player(soup)\n",
    "    # print(test)\n",
    "    for i in range(6):\n",
    "        del test[0]\n",
    "    total = []\n",
    "    for i in range(0, len(test), 6):\n",
    "        # print(test[i:i + 6])\n",
    "        temp = seperate_name(test[i:i+6])\n",
    "        temp = deal_with_height(temp)\n",
    "        temp = deal_with_time(temp)\n",
    "        temp = deal_with_weight(temp)\n",
    "        # print(temp)\n",
    "        total.append(temp)\n",
    "    player = pd.DataFrame(total, columns=['Fname', 'Lname', 'Position', 'Number', 'Height', 'Weight', 'Birth Day'])\n",
    "    player.to_csv('/Users/heng/Data_Base/project/Player_data/' + team)\n",
    "    return player"
   ]
  },
  {
   "cell_type": "code",
   "execution_count": 8,
   "metadata": {},
   "outputs": [],
   "source": [
    "team_dict = {\"Boston\": \"404169\", \"Brooklyn\": \"404117\", \"New York\": \"404288\", \"Philadelphia\": \"404083\", \\\n",
    "             \"Toronto\": \"404330\", \"Chicago\": \"404198\", \"Cleveland\": \"404213\", \"Detroit\": \"404153\", \\\n",
    "             \"Indiana\": \"404155\", \"Milwaukee\": \"404011\", \"Atlanta\": \"404085\", \"Charlotte\": \"664421\", \\\n",
    "             \"Miami\": \"404171\", \"Orlando\": \"404013\", \"Washington\": \"404067\", \"Denver\": \"404065\", \\\n",
    "             \"Minnesota\": \"403995\", \"Oklahoma City\": \"404316\", \"Portland\": \"403993\", \"Utah\": \"404031\", \\\n",
    "             \"Golden State\": \"404119\", \"L.A. Clippers\": \"404135\", \"L.A. Lakers\": \"403977\", \"Phoenix\": \"404029\", \\\n",
    "             \"Sacramento\": \"403975\", \"Dallas\": \"404047\", \"Houston\": \"404137\", \"Memphis\": \"404049\", \\\n",
    "             \"New Orleans\": \"404101\", \"San Antonio\": \"404302\"}"
   ]
  },
  {
   "cell_type": "code",
   "execution_count": 9,
   "metadata": {},
   "outputs": [
    {
     "name": "stdout",
     "output_type": "stream",
     "text": [
      "Boston\n",
      "Brooklyn\n",
      "New York\n",
      "Philadelphia\n",
      "Toronto\n",
      "Chicago\n",
      "Cleveland\n",
      "Detroit\n",
      "Indiana\n",
      "Milwaukee\n",
      "Atlanta\n",
      "Charlotte\n",
      "Miami\n",
      "Orlando\n",
      "Washington\n",
      "Denver\n",
      "Minnesota\n",
      "Oklahoma City\n",
      "Portland\n",
      "Utah\n",
      "Golden State\n",
      "L.A. Clippers\n",
      "L.A. Lakers\n",
      "Phoenix\n",
      "Sacramento\n",
      "Dallas\n",
      "Houston\n",
      "Memphis\n",
      "New Orleans\n",
      "San Antonio\n"
     ]
    }
   ],
   "source": [
    "for key, value in team_dict.items():\n",
    "# key = \"Orlando\"\n",
    "    print(key)\n",
    "    # value = team_dict[key]\n",
    "    url = \"https://www.covers.com/pageLoader/pageLoader.aspx?page=/data/nba/teams/rosters/roster\" + str(value) \\\n",
    "        + \".html\"\n",
    "    player(key, url)"
   ]
  },
  {
   "cell_type": "code",
   "execution_count": null,
   "metadata": {},
   "outputs": [],
   "source": []
  },
  {
   "cell_type": "code",
   "execution_count": null,
   "metadata": {},
   "outputs": [],
   "source": []
  }
 ],
 "metadata": {
  "kernelspec": {
   "display_name": "Python 3",
   "language": "python",
   "name": "python3"
  },
  "language_info": {
   "codemirror_mode": {
    "name": "ipython",
    "version": 3
   },
   "file_extension": ".py",
   "mimetype": "text/x-python",
   "name": "python",
   "nbconvert_exporter": "python",
   "pygments_lexer": "ipython3",
   "version": "3.6.5"
  }
 },
 "nbformat": 4,
 "nbformat_minor": 2
}
