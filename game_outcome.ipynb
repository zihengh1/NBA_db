{
 "cells": [
  {
   "cell_type": "code",
   "execution_count": 139,
   "metadata": {},
   "outputs": [],
   "source": [
    "import requests  \n",
    "import pandas as pd\n",
    "import time  \n",
    "import urllib.request  \n",
    "import csv\n",
    "from bs4 import BeautifulSoup"
   ]
  },
  {
   "cell_type": "code",
   "execution_count": 169,
   "metadata": {},
   "outputs": [],
   "source": [
    "def read_game(soup, m, d):\n",
    "    # find the place of the game\n",
    "    for game_table in soup.find_all('div', class_= \"cmg_matchup_line_score\"):\n",
    "        data = []\n",
    "        data.append(m)\n",
    "        data.append(d)\n",
    "        for index in (game_table.find_all('td')):\n",
    "            info = str(index.string)\n",
    "            info = ''.join(c for c in info if c.isdigit() or c.isalpha())\n",
    "            # print(info)\n",
    "            data.append(info)\n",
    "        print(data)"
   ]
  },
  {
   "cell_type": "code",
   "execution_count": 190,
   "metadata": {},
   "outputs": [],
   "source": [
    "def read_player(soup):\n",
    "    for player_table in soup.find_all('div', class_= \"leftCol\"):\n",
    "        info = str()\n",
    "        num = 0\n",
    "        data = []\n",
    "        for index in (player_table.find_all('td')):\n",
    "            # print(str(num) + \" \", end = \"\")\n",
    "            if(num % 6 == 0 and num != 0):\n",
    "                a_tags = index.find_all('a')\n",
    "                for tags in a_tags:\n",
    "                    info = str(tags.string)\n",
    "            else:\n",
    "                info = str(index.string)\n",
    "                info = ''.join(c for c in info if c.isdigit() or c.isalpha())\n",
    "            # print(info)\n",
    "            data.append(info)\n",
    "            num = num + 1\n",
    "    return data"
   ]
  },
  {
   "cell_type": "code",
   "execution_count": 189,
   "metadata": {
    "scrolled": true
   },
   "outputs": [],
   "source": [
    "def game():\n",
    "    month = 3\n",
    "    day = 3\n",
    "    # for day in range(1, 5):\n",
    "    url_1 = \"https://www.covers.com/sports/NBA/matchups?selectedDate=2017-\" + str(month) + \"-\" + str(day)\n",
    "    with urllib.request.urlopen(url_1) as url:\n",
    "        s = url.read()\n",
    "    soup = BeautifulSoup(s, 'lxml')\n",
    "    read_game(soup, month, day)"
   ]
  },
  {
   "cell_type": "code",
   "execution_count": 191,
   "metadata": {},
   "outputs": [],
   "source": [
    "def player():\n",
    "    team = 'Celtics'\n",
    "    url_2 = \"https://www.covers.com/pageLoader/pageLoader.aspx?page=/data/nba/teams/rosters/roster404169.html\"\n",
    "    with urllib.request.urlopen(url_2) as url:\n",
    "        s = url.read()\n",
    "    soup = BeautifulSoup(s, 'lxml')\n",
    "    test = read_player(soup)\n",
    "    total = []\n",
    "    for i in range(0, len(test), 6):\n",
    "        total.append(test[i : i + 6] )\n",
    "    player = pd.DataFrame(total, columns=['Name', 'Position', 'Number', 'Height', 'Weight', 'Birth Day'])\n",
    "    player = player.drop(player.index[0])\n",
    "    player.to_csv('/Users/heng/Data_Base/project/' + team, sep='\\t')"
   ]
  },
  {
   "cell_type": "code",
   "execution_count": 192,
   "metadata": {},
   "outputs": [],
   "source": [
    "player()"
   ]
  },
  {
   "cell_type": "code",
   "execution_count": null,
   "metadata": {},
   "outputs": [],
   "source": []
  }
 ],
 "metadata": {
  "kernelspec": {
   "display_name": "Python 3",
   "language": "python",
   "name": "python3"
  },
  "language_info": {
   "codemirror_mode": {
    "name": "ipython",
    "version": 3
   },
   "file_extension": ".py",
   "mimetype": "text/x-python",
   "name": "python",
   "nbconvert_exporter": "python",
   "pygments_lexer": "ipython3",
   "version": "3.6.5"
  }
 },
 "nbformat": 4,
 "nbformat_minor": 2
}
