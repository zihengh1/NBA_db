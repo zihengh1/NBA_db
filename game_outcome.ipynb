{
 "cells": [
  {
   "cell_type": "code",
   "execution_count": 5,
   "metadata": {},
   "outputs": [],
   "source": [
    "import requests  \n",
    "import pandas as pd\n",
    "import time  \n",
    "import urllib.request  \n",
    "import csv\n",
    "from bs4 import BeautifulSoup"
   ]
  },
  {
   "cell_type": "code",
   "execution_count": 6,
   "metadata": {},
   "outputs": [],
   "source": [
    "def read_game(soup, m, d):\n",
    "    # find the place of the game\n",
    "    for game_table in soup.find_all('div', class_= \"cmg_matchup_line_score\"):\n",
    "        data = []\n",
    "        data.append(m)\n",
    "        data.append(d)\n",
    "        for index in (game_table.find_all('td')):\n",
    "            info = str(index.string)\n",
    "            info = ''.join(c for c in info if c.isdigit() or c.isalpha())\n",
    "            # print(info)\n",
    "            data.append(info)\n",
    "        print(data)"
   ]
  },
  {
   "cell_type": "code",
   "execution_count": 7,
   "metadata": {},
   "outputs": [],
   "source": [
    "def game():\n",
    "    month = 3\n",
    "    day = 3\n",
    "    # for day in range(1, 5):\n",
    "    url_1 = \"https://www.covers.com/sports/NBA/matchups?selectedDate=2017-\" + str(month) + \"-\" + str(day)\n",
    "    with urllib.request.urlopen(url_1) as url:\n",
    "        s = url.read()\n",
    "    soup = BeautifulSoup(s, 'lxml')\n",
    "    read_game(soup, month, day)"
   ]
  },
  {
   "cell_type": "code",
   "execution_count": 8,
   "metadata": {},
   "outputs": [
    {
     "name": "stdout",
     "output_type": "stream",
     "text": [
      "[3, 3, 'NY', '35', '18', '28', '21', '102', 'None', 'PHI', '29', '34', '16', '26', '105', 'None']\n",
      "[3, 3, 'TOR', '35', '27', '17', '35', '114', 'None', 'WAS', '27', '26', '25', '28', '106', 'None']\n",
      "[3, 3, 'MIA', '25', '28', '20', '26', '99', 'None', 'ORL', '33', '27', '25', '25', '110', 'None']\n",
      "[3, 3, 'CLE', '39', '38', '29', '29', '135', 'None', 'ATL', '33', '27', '28', '42', '130', 'None']\n",
      "[3, 3, 'LAC', '19', '28', '29', '25', '101', 'None', 'MIL', '34', '32', '19', '27', '112', 'None']\n",
      "[3, 3, 'MEM', '22', '28', '22', '28', '100', 'None', 'DAL', '20', '31', '28', '25', '104', 'None']\n",
      "[3, 3, 'BK', '26', '25', '19', '27', '97', 'None', 'UTA', '38', '22', '28', '24', '112', 'None']\n",
      "[3, 3, 'OKC', '28', '27', '24', '32', '111', 'None', 'PHO', '23', '35', '29', '31', '118', 'None']\n",
      "[3, 3, 'SA', '27', '22', '18', '22', '12', '101', 'None', 'NO', '30', '18', '18', '23', '9', '98', 'None']\n",
      "[3, 3, 'BOS', '35', '35', '23', '22', '115', 'None', 'LAL', '26', '19', '33', '17', '95', 'None']\n"
     ]
    }
   ],
   "source": [
    "game()"
   ]
  },
  {
   "cell_type": "code",
   "execution_count": null,
   "metadata": {},
   "outputs": [],
   "source": []
  }
 ],
 "metadata": {
  "kernelspec": {
   "display_name": "Python 3",
   "language": "python",
   "name": "python3"
  },
  "language_info": {
   "codemirror_mode": {
    "name": "ipython",
    "version": 3
   },
   "file_extension": ".py",
   "mimetype": "text/x-python",
   "name": "python",
   "nbconvert_exporter": "python",
   "pygments_lexer": "ipython3",
   "version": "3.6.5"
  }
 },
 "nbformat": 4,
 "nbformat_minor": 2
}
