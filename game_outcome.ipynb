{
 "cells": [
  {
   "cell_type": "code",
   "execution_count": 205,
   "metadata": {},
   "outputs": [],
   "source": [
    "import requests  \n",
    "import pandas as pd\n",
    "import time  \n",
    "import urllib.request  \n",
    "from bs4 import BeautifulSoup"
   ]
  },
  {
   "cell_type": "code",
   "execution_count": 209,
   "metadata": {},
   "outputs": [],
   "source": [
    "def data_read(soup):\n",
    "    data = []\n",
    "    # find the place of the game\n",
    "    for game_table in soup.find_all('div', class_= \"cmg_matchup_line_score\"):\n",
    "        num = 0\n",
    "        for index in (game_table.find_all('td')):\n",
    "            if num == 0 or num == 5 or num == 7 or num == 12:\n",
    "                info = str(index.string)\n",
    "                info = ''.join(c for c in info if c.isdigit() or c.isalpha())\n",
    "                data.append(info)\n",
    "            num = num + 1\n",
    "    print(data)\n",
    "    data = pd.DataFrame({'game':data})\n",
    "    return data"
   ]
  },
  {
   "cell_type": "code",
   "execution_count": 211,
   "metadata": {
    "scrolled": true
   },
   "outputs": [
    {
     "name": "stdout",
     "output_type": "stream",
     "text": [
      "['NY', '101', 'ORL', '90', 'WAS', '105', 'TOR', '96', 'DAL', '95', 'ATL', '100', 'PHI', '98', 'MIA', '125', 'DEN', '110', 'MIL', '98', 'DET', '86', 'NO', '109', 'CLE', '99', 'BOS', '103', 'IND', '99', 'SA', '100', 'MIN', '107', 'UTA', '80', 'HOU', '122', 'LAC', '103', 'BK', '109', 'SAC', '100']\n",
      "['GS', '87', 'CHI', '94', 'CHA', '103', 'PHO', '120', 'OKC', '109', 'POR', '114']\n",
      "['NY', '102', 'PHI', '105', 'TOR', '114', 'WAS', '106', 'MIA', '99', 'ORL', '110', 'CLE', '135', 'ATL', '130', 'LAC', '101', 'MIL', '112', 'MEM', '100', 'DAL', '104', 'BK', '97', 'UTA', '112', 'OKC', '111', 'PHO', '118', 'SA', '12', 'None', '23', 'BOS', '115', 'LAL', '95']\n",
      "['DET', '136', 'PHI', '106', 'TOR', '94', 'MIL', '101', 'CLE', '92', 'MIA', '120', 'LAC', '101', 'CHI', '91', 'CHA', '112', 'DEN', '102', 'MEM', '108', 'HOU', '123', 'MIN', '7', 'None', '21', 'BK', '116', 'POR', '130']\n",
      "['IND', '97', 'ATL', '96', 'GS', '112', 'NY', '105', 'BOS', '106', 'PHO', '109', 'ORL', '114', 'WAS', '115', 'UTA', '13', 'None', '16', 'OKC', '89', 'DAL', '104', 'NO', '105', 'LAL', '97']\n",
      "['MIL', '112', 'PHI', '98', 'NY', '113', 'ORL', '105', 'MIA', '106', 'CLE', '98', 'GS', '119', 'ATL', '111', 'CHI', '95', 'DET', '109', 'BK', '122', 'MEM', '109', 'IND', '88', 'CHA', '100', 'HOU', '110', 'SA', '112', 'SAC', '96', 'DEN', '108', 'NO', '83', 'UTA', '88', 'BOS', '102', 'LAC', '116']\n",
      "['POR', '126', 'OKC', '121', 'LAL', '111', 'DAL', '122', 'WAS', '131', 'PHO', '127']\n",
      "['CHI', '91', 'ORL', '98', 'BK', '105', 'ATL', '110', 'CHA', '101', 'MIA', '108', 'NY', '93', 'MIL', '104', 'TOR', '94', 'NO', '87', 'UTA', '115', 'HOU', '108', 'LAC', '91', 'MIN', '107', 'DET', '98', 'IND', '115', 'SAC', '104', 'SA', '114', 'WAS', '123', 'DEN', '113', 'BOS', '99', 'GS', '86']\n",
      "['CLE', '101', 'DET', '106', 'LAC', '114', 'MEM', '98', 'SA', '92', 'OKC', '102', 'PHI', '11', 'None', '21', 'LAL', '122', 'PHO', '110']\n",
      "['ORL', '81', 'CHA', '121', 'HOU', '115', 'CHI', '94', 'IND', '85', 'MIL', '99', 'GS', '102', 'MIN', '103', 'TOR', '99', 'ATL', '105', 'BOS', '99', 'DEN', '119', 'BK', '96', 'DAL', '105', 'WAS', '14', 'None', '19']\n",
      "['UTA', '104', 'OKC', '112', 'PHI', '100', 'LAC', '112', 'NY', '92', 'DET', '112', 'NO', '13', 'None', '34', 'CLE', '116', 'ORL', '104', 'MIN', '95', 'MIL', '102', 'TOR', '89', 'MIA', '104', 'GS', '85', 'SA', '107', 'ATL', '107', 'MEM', '90', 'PHO', '100', 'DAL', '98', 'WAS', '13', 'None', '21', 'DEN', '105', 'SAC', '92']\n",
      "['CHI', '80', 'BOS', '100', 'NY', '112', 'BK', '120', 'MIA', '98', 'IND', '102', 'POR', '110', 'PHO', '101', 'CLE', '112', 'HOU', '117', 'PHI', '118', 'LAL', '116']\n",
      "['CHI', '115', 'CHA', '109', 'DAL', '78', 'TOR', '100', 'MIL', '93', 'MEM', '113', 'ATL', '99', 'SA', '107', 'WAS', '104', 'MIN', '119', 'LAC', '108', 'UTA', '114', 'ORL', '115', 'SAC', '120', 'LAL', '101', 'DEN', '129']\n",
      "['DET', '96', 'CLE', '128', 'OKC', '122', 'BK', '104', 'IND', '81', 'NY', '87', 'POR', '77', 'NO', '100', 'PHI', '104', 'GS', '106']\n",
      "['DAL', '112', 'WAS', '107', 'CHA', '77', 'IND', '98', 'MIN', '104', 'BOS', '117', 'NO', '112', 'MIA', '120', 'UTA', '97', 'DET', '83', 'MEM', '98', 'CHI', '91', 'LAL', '100', 'HOU', '139', 'POR', '110', 'SA', '106', 'SAC', '107', 'PHO', '101', 'MIL', '97', 'LAC', '96']\n",
      "['UTA', '83', 'CLE', '91', 'OKC', '123', 'TOR', '102', 'BK', '121', 'NY', '110', 'MEM', '103', 'ATL', '91', 'LAC', '114', 'DEN', '129', 'ORL', '92', 'GS', '122']\n",
      "['DAL', '74', 'PHI', '116', 'CHI', '107', 'WAS', '112', 'BOS', '98', 'BK', '95', 'TOR', '87', 'DET', '75', 'HOU', '112', 'NO', '128', 'MIN', '105', 'MIA', '123', 'ORL', '109', 'PHO', '103', 'MIL', '107', 'LAL', '103']\n",
      "['SAC', '94', 'OKC', '110', 'POR', '113', 'ATL', '97', 'WAS', '93', 'CHA', '98', 'CLE', '78', 'LAC', '108', 'UTA', '86', 'CHI', '95', 'SA', '96', 'MEM', '104', 'HOU', '109', 'DEN', '105', 'MIL', '92', 'GS', '117']\n",
      "['DAL', '111', 'BK', '104', 'BOS', '99', 'PHI', '105', 'PHO', '95', 'DET', '112', 'MIN', '109', 'NO', '123', 'IND', '91', 'TOR', '116', 'POR', '115', 'MIA', '104', 'SAC', '102', 'SA', '118', 'CLE', '125', 'LAL', '120']\n",
      "['ATL', '90', 'CHA', '105', 'PHI', '11', 'None', '24', 'UTA', '100', 'IND', '107', 'WAS', '102', 'BOS', '110', 'DEN', '124', 'HOU', '125', 'GS', '111', 'OKC', '95', 'NY', '105', 'LAC', '114']\n",
      "['CHI', '7', 'None', '34', 'DET', '96', 'BK', '98', 'PHO', '97', 'MIA', '112', 'MEM', '82', 'NO', '95', 'GS', '112', 'DAL', '87', 'SA', '100', 'MIN', '93', 'MIL', '93', 'POR', '90', 'LAC', '133', 'LAL', '109']\n",
      "['CHA', '109', 'ORL', '102', 'IND', '100', 'BOS', '109', 'DET', '95', 'CHI', '117', 'PHI', '97', 'OKC', '122', 'ATL', '100', 'WAS', '104', 'CLE', '113', 'DEN', '126', 'MIL', '116', 'SAC', '98', 'NY', '101', 'UTA', '108']\n",
      "['PHO', '98', 'BK', '126', 'TOR', '101', 'MIA', '84', 'LAC', '95', 'DAL', '97', 'MEM', '90', 'SA', '97', 'NY', '95', 'POR', '110']\n",
      "['BK', '108', 'WAS', '129', 'CLE', '112', 'CHA', '105', 'DET', '87', 'ORL', '115', 'DEN', '125', 'IND', '117', 'PHO', '120', 'BOS', '130', 'PHI', '117', 'CHI', '107', 'ATL', '97', 'MIL', '100', 'NO', '107', 'HOU', '117', 'MIN', '10', 'None', '29', 'SAC', '100', 'GS', '114']\n",
      "['UTA', '95', 'LAC', '108', 'WAS', '127', 'CLE', '115', 'TOR', '94', 'DAL', '86', 'NY', '98', 'SA', '106', 'MIN', '100', 'POR', '112']\n",
      "['PHO', '106', 'CHA', '120', 'BK', '107', 'ATL', '92', 'SAC', '98', 'LAC', '97', 'CHI', '109', 'MIL', '94', 'OKC', '125', 'HOU', '137', 'PHI', '94', 'IND', '107', 'MIA', '108', 'BOS', '112', 'MEM', '94', 'GS', '106', 'NO', '115', 'DEN', '90', 'POR', '97', 'LAL', '81']\n",
      "['ORL', '112', 'TOR', '131', 'DET', '95', 'NY', '109', 'CLE', '74', 'SA', '103', 'OKC', '92', 'DAL', '91', 'MEM', '90', 'SAC', '91', 'NO', '100', 'UTA', '108']\n",
      "['MIL', '118', 'CHA', '108', 'MIN', '115', 'IND', '114', 'PHI', '106', 'BK', '101', 'PHO', '91', 'ATL', '95', 'MIA', '97', 'DET', '96', 'GS', '113', 'HOU', '106', 'DEN', '113', 'POR', '122', 'WAS', '119', 'LAL', '108']\n",
      "['ATL', '99', 'PHI', '92', 'OKC', '12', 'None', '20', 'MIL', '103', 'BOS', '100', 'CHA', '110', 'TOR', '106', 'MIA', '105', 'NY', '88', 'IND', '97', 'MEM', '110', 'DAL', '118', 'NO', '121', 'GS', '110', 'SA', '98', 'WAS', '124', 'LAC', '133', 'UTA', '112', 'SAC', '82']\n",
      "['BK', '89', 'DET', '90', 'CLE', '93', 'CHI', '99', 'LAL', '104', 'MIN', '119', 'LAC', '124', 'PHO', '118', 'HOU', '107', 'POR', '117']\n"
     ]
    }
   ],
   "source": [
    "for num in range(1, 31):\n",
    "    url = \"https://www.covers.com/sports/NBA/matchups?selectedDate=2017-3-\" + str(num)\n",
    "    with urllib.request.urlopen(url) as url:\n",
    "        s = url.read()\n",
    "    soup = BeautifulSoup(s, )\n",
    "    total = data_read(soup)"
   ]
  },
  {
   "cell_type": "code",
   "execution_count": 1,
   "metadata": {},
   "outputs": [
    {
     "ename": "NameError",
     "evalue": "name 'total' is not defined",
     "output_type": "error",
     "traceback": [
      "\u001b[0;31m---------------------------------------------------------------------------\u001b[0m",
      "\u001b[0;31mNameError\u001b[0m                                 Traceback (most recent call last)",
      "\u001b[0;32m<ipython-input-1-f5f7acea0338>\u001b[0m in \u001b[0;36m<module>\u001b[0;34m()\u001b[0m\n\u001b[0;32m----> 1\u001b[0;31m \u001b[0mtotal\u001b[0m\u001b[0;34m\u001b[0m\u001b[0m\n\u001b[0m",
      "\u001b[0;31mNameError\u001b[0m: name 'total' is not defined"
     ]
    }
   ],
   "source": [
    "total"
   ]
  },
  {
   "cell_type": "code",
   "execution_count": null,
   "metadata": {},
   "outputs": [],
   "source": []
  }
 ],
 "metadata": {
  "kernelspec": {
   "display_name": "Python 3",
   "language": "python",
   "name": "python3"
  },
  "language_info": {
   "codemirror_mode": {
    "name": "ipython",
    "version": 3
   },
   "file_extension": ".py",
   "mimetype": "text/x-python",
   "name": "python",
   "nbconvert_exporter": "python",
   "pygments_lexer": "ipython3",
   "version": "3.6.5"
  }
 },
 "nbformat": 4,
 "nbformat_minor": 2
}
